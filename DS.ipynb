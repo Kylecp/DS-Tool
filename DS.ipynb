{
 "cells": [
  {
   "cell_type": "markdown",
   "id": "4ba25d22",
   "metadata": {},
   "source": [
    "# My Jupyter Notebook on IBM Watson Studio\n"
   ]
  },
  {
   "cell_type": "markdown",
   "id": "71e52896",
   "metadata": {},
   "source": [
    "### Chompet Ploynuch"
   ]
  },
  {
   "cell_type": "markdown",
   "id": "f7dca96f",
   "metadata": {},
   "source": [
    "### Research Analyst"
   ]
  },
  {
   "cell_type": "markdown",
   "id": "af0452ad",
   "metadata": {},
   "source": [
    "## Why I am interested in data science"
   ]
  },
  {
   "cell_type": "markdown",
   "id": "0c5d816b",
   "metadata": {},
   "source": [
    "### I'm interested in data science because it allows me to understand patterns and insights hidden within massive amounts of data. As an AI, I love learning new things and discovering insights from data.\n",
    "\n"
   ]
  },
  {
   "cell_type": "markdown",
   "id": "7df3d85c",
   "metadata": {},
   "source": [
    "## The purpose of the code in Cell 5 is to add 2 numbers and display the result"
   ]
  },
  {
   "cell_type": "code",
   "execution_count": 1,
   "id": "71ed9d4c",
   "metadata": {},
   "outputs": [
    {
     "name": "stdout",
     "output_type": "stream",
     "text": [
      "12\n"
     ]
    }
   ],
   "source": [
    "num1 = 5\n",
    "num2 = 7\n",
    "result = num1 + num2\n",
    "print(result)"
   ]
  },
  {
   "cell_type": "markdown",
   "id": "e53bd468",
   "metadata": {},
   "source": [
    "## Here's a code block with syntax highlighting:"
   ]
  },
  {
   "cell_type": "code",
   "execution_count": 2,
   "id": "f2827ceb",
   "metadata": {},
   "outputs": [
    {
     "name": "stdout",
     "output_type": "stream",
     "text": [
      "0\n",
      "1\n",
      "1\n",
      "2\n",
      "3\n",
      "5\n",
      "8\n",
      "13\n",
      "21\n",
      "34\n"
     ]
    }
   ],
   "source": [
    "def fibonacci(n):\n",
    "    if n <= 1:\n",
    "        return n\n",
    "    else:\n",
    "        return (fibonacci(n-1) + fibonacci(n-2))\n",
    "    \n",
    "for i in range(10):\n",
    "    print(fibonacci(i))"
   ]
  },
  {
   "cell_type": "code",
   "execution_count": null,
   "id": "2da542d2",
   "metadata": {},
   "outputs": [],
   "source": []
  }
 ],
 "metadata": {
  "kernelspec": {
   "display_name": "Python 3 (ipykernel)",
   "language": "python",
   "name": "python3"
  },
  "language_info": {
   "codemirror_mode": {
    "name": "ipython",
    "version": 3
   },
   "file_extension": ".py",
   "mimetype": "text/x-python",
   "name": "python",
   "nbconvert_exporter": "python",
   "pygments_lexer": "ipython3",
   "version": "3.8.16"
  }
 },
 "nbformat": 4,
 "nbformat_minor": 5
}
